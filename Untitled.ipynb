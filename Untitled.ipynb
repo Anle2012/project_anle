{
 "cells": [
  {
   "cell_type": "code",
   "execution_count": 138,
   "id": "e33952e9",
   "metadata": {},
   "outputs": [
    {
     "name": "stdout",
     "output_type": "stream",
     "text": [
      "     product_id          ordered_at  quantity_ordered  price  \\\n",
      "0       3954203 2018-09-11 01:43:00                 1  60000   \n",
      "1       4085861 2018-09-11 06:26:00                 1  60000   \n",
      "2       4085861 2018-09-11 06:53:00                 1  60000   \n",
      "3       4085861 2018-09-11 08:24:00                 1  60000   \n",
      "4       4085861 2018-09-11 09:30:00                 1  53500   \n",
      "..          ...                 ...               ...    ...   \n",
      "170     4085861 2018-09-18 20:23:00                 1  52000   \n",
      "171     4085861 2018-09-18 20:43:00                 1  52000   \n",
      "172     4085861 2018-09-18 20:54:00                 1  52000   \n",
      "173     3954203 2018-09-18 21:26:00                 1  57500   \n",
      "174     3998909 2018-09-18 22:11:00                 1  16500   \n",
      "\n",
      "             updated_at  revenue  \n",
      "0   2018-09-10 16:32:00    60000  \n",
      "1   2018-01-01 00:00:00    60000  \n",
      "2   2018-01-01 00:00:00    60000  \n",
      "3   2018-01-01 00:00:00    60000  \n",
      "4   2018-09-11 08:51:00    53500  \n",
      "..                  ...      ...  \n",
      "170 2018-09-17 22:59:00    52000  \n",
      "171 2018-09-17 22:59:00    52000  \n",
      "172 2018-09-17 22:59:00    52000  \n",
      "173 2018-09-17 22:59:00    57500  \n",
      "174 2018-09-16 05:09:00    16500  \n",
      "\n",
      "[175 rows x 6 columns]\n",
      "    product_id   price  revenue\n",
      "0           64  239000   956000\n",
      "1      3954203   57500    57500\n",
      "2      3954203   60000   180000\n",
      "3      3954203   64000   640000\n",
      "4      3998909   15500    15500\n",
      "5      3998909   16500   231000\n",
      "6      3998909   17000    34000\n",
      "7      4085861   52000  1040000\n",
      "8      4085861   53500  2140000\n",
      "9      4085861   58000  2204000\n",
      "10     4085861   60000   180000\n",
      "11     4085861   62500  1812500\n",
      "12     4085861   67000   871000\n"
     ]
    }
   ],
   "source": [
    "import pandas as pd\n",
    "sales= pd.read_csv('sales.csv')\n",
    "old_prices= pd.read_csv('prices.csv')\n",
    "\n",
    "#creating a new dataframe with price before for product:\n",
    "new_data= pd.DataFrame({'product_id':[64,3954203,3998909,4085861],\n",
    "                       'old_price':['null','null','null','null'],\n",
    "          'new_price':[270000,68800,19000,60000],\n",
    "          'updated_at':['1/1/18','1/1/18','1/1/18','1/1/18']})\n",
    "\n",
    "#concat 2 tables and fill the columns:\n",
    "new_prices= pd.concat([old_prices,new_data], ignore_index=True)\n",
    "prices=new_prices[['product_id','new_price','updated_at']].rename(columns={'new_price':'price'})\n",
    "\n",
    "# convert columns to timestamp\n",
    "sales.ordered_at=pd.to_datetime(sales.ordered_at)\n",
    "prices.updated_at= pd.to_datetime(prices.updated_at)\n",
    "\n",
    "#sort tables\n",
    "sales_sorted=sales.sort_values('ordered_at')\n",
    "prices_sorted=prices.sort_values('updated_at')\n",
    "\n",
    "# merge_asof tables\n",
    "sales_prices= pd.merge_asof(sales_sorted, prices_sorted, by='product_id',left_on= 'ordered_at',right_on='updated_at')\n",
    "\n",
    "\n",
    "#creating a column 'revenue'\n",
    "sales_prices['revenue'] = sales_prices['quantity_ordered'] * sales_prices['price']\n",
    "\n",
    "revenue_by_product_and_price = sales_prices.groupby(['product_id', 'price'], as_index=False)['revenue'].sum()\n",
    "print(sales_prices)\n",
    "print(revenue_by_product_and_price)"
   ]
  },
  {
   "cell_type": "code",
   "execution_count": null,
   "id": "651cd1a4",
   "metadata": {},
   "outputs": [],
   "source": []
  },
  {
   "cell_type": "code",
   "execution_count": null,
   "id": "493e0ddf",
   "metadata": {},
   "outputs": [],
   "source": []
  }
 ],
 "metadata": {
  "kernelspec": {
   "display_name": "Python 3 (ipykernel)",
   "language": "python",
   "name": "python3"
  },
  "language_info": {
   "codemirror_mode": {
    "name": "ipython",
    "version": 3
   },
   "file_extension": ".py",
   "mimetype": "text/x-python",
   "name": "python",
   "nbconvert_exporter": "python",
   "pygments_lexer": "ipython3",
   "version": "3.9.12"
  }
 },
 "nbformat": 4,
 "nbformat_minor": 5
}
