{
 "cells": [
  {
   "cell_type": "code",
   "execution_count": 3,
   "metadata": {},
   "outputs": [],
   "source": [
    "#data wrangling\n",
    "import pandas as pd\n",
    "\n",
    "#datetime\n",
    "import datetime as dt\n"
   ]
  },
  {
   "cell_type": "code",
   "execution_count": 39,
   "metadata": {
    "scrolled": true
   },
   "outputs": [
    {
     "name": "stdout",
     "output_type": "stream",
     "text": [
      "   transaction_id  product_id  customer_id transaction_date  online_order  \\\n",
      "0               1           2         2950       2017-02-25           0.0   \n",
      "1               2           3         3120       2017-05-21           1.0   \n",
      "2               3          37          402       2017-10-16           0.0   \n",
      "3               4          88         3135       2017-08-31           0.0   \n",
      "4               5          78          787       2017-10-01           1.0   \n",
      "\n",
      "  order_status           brand product_line product_class product_size  \\\n",
      "0     Approved           Solex     Standard        medium       medium   \n",
      "1     Approved   Trek Bicycles     Standard        medium        large   \n",
      "2     Approved      OHM Cycles     Standard           low       medium   \n",
      "3     Approved  Norco Bicycles     Standard        medium       medium   \n",
      "4     Approved  Giant Bicycles     Standard        medium        large   \n",
      "\n",
      "   list_price  standard_cost  product_first_sold_date  \n",
      "0       71.49          53.62                  41245.0  \n",
      "1     2091.47         388.92                  41701.0  \n",
      "2     1793.43         248.82                  36361.0  \n",
      "3     1198.46         381.10                  36145.0  \n",
      "4     1765.30         709.48                  42226.0  \n"
     ]
    }
   ],
   "source": [
    "# load sheet Transactions trong file KPMG và in ra 5 dòng đầu tiên\n",
    "\n",
    "transactions= pd.read_excel('KPMG.xlsx')\n",
    "print(transactions.head(5))\n",
    "\n"
   ]
  },
  {
   "cell_type": "code",
   "execution_count": 41,
   "metadata": {},
   "outputs": [
    {
     "name": "stdout",
     "output_type": "stream",
     "text": [
      "<class 'pandas.core.frame.DataFrame'>\n",
      "RangeIndex: 20000 entries, 0 to 19999\n",
      "Data columns (total 13 columns):\n",
      " #   Column                   Non-Null Count  Dtype         \n",
      "---  ------                   --------------  -----         \n",
      " 0   transaction_id           20000 non-null  int64         \n",
      " 1   product_id               20000 non-null  int64         \n",
      " 2   customer_id              20000 non-null  int64         \n",
      " 3   transaction_date         20000 non-null  datetime64[ns]\n",
      " 4   online_order             19640 non-null  float64       \n",
      " 5   order_status             20000 non-null  object        \n",
      " 6   brand                    19803 non-null  object        \n",
      " 7   product_line             19803 non-null  object        \n",
      " 8   product_class            19803 non-null  object        \n",
      " 9   product_size             19803 non-null  object        \n",
      " 10  list_price               20000 non-null  float64       \n",
      " 11  standard_cost            19803 non-null  float64       \n",
      " 12  product_first_sold_date  19803 non-null  float64       \n",
      "dtypes: datetime64[ns](1), float64(4), int64(3), object(5)\n",
      "memory usage: 2.0+ MB\n",
      "None\n"
     ]
    }
   ],
   "source": [
    "# in ra info bảng\n",
    "print(transactions.info())\n"
   ]
  },
  {
   "cell_type": "code",
   "execution_count": 54,
   "metadata": {
    "scrolled": true
   },
   "outputs": [
    {
     "name": "stdout",
     "output_type": "stream",
     "text": [
      "       transaction_id   product_id   customer_id  online_order    list_price  \\\n",
      "count    20000.000000  20000.00000  20000.000000  19640.000000  20000.000000   \n",
      "mean     10000.500000     45.36465   1738.246050      0.500458   1107.829449   \n",
      "std       5773.647028     30.75359   1011.951046      0.500013    582.825242   \n",
      "min          1.000000      0.00000      1.000000      0.000000     12.010000   \n",
      "25%       5000.750000     18.00000    857.750000      0.000000    575.270000   \n",
      "50%      10000.500000     44.00000   1736.000000      1.000000   1163.890000   \n",
      "75%      15000.250000     72.00000   2613.000000      1.000000   1635.300000   \n",
      "max      20000.000000    100.00000   5034.000000      1.000000   2091.470000   \n",
      "\n",
      "       standard_cost  product_first_sold_date  \n",
      "count   19803.000000             19803.000000  \n",
      "mean      556.046951             38199.776549  \n",
      "std       405.955660              2875.201110  \n",
      "min         7.210000             33259.000000  \n",
      "25%       215.140000             35667.000000  \n",
      "50%       507.580000             38216.000000  \n",
      "75%       795.100000             40672.000000  \n",
      "max      1759.850000             42710.000000  \n"
     ]
    }
   ],
   "source": [
    "# describe default\n",
    "print(transactions.describe())"
   ]
  },
  {
   "cell_type": "code",
   "execution_count": 55,
   "metadata": {
    "scrolled": true
   },
   "outputs": [
    {
     "name": "stdout",
     "output_type": "stream",
     "text": [
      "       order_status  brand product_line product_class product_size\n",
      "count         20000  19803        19803         19803        19803\n",
      "unique            2      6            4             3            3\n",
      "top        Approved  Solex     Standard        medium       medium\n",
      "freq          19821   4253        14176         13826        12990\n"
     ]
    }
   ],
   "source": [
    "# describe các biến object\n",
    "print(transactions.describe(include=[object]))"
   ]
  },
  {
   "cell_type": "code",
   "execution_count": 56,
   "metadata": {
    "scrolled": false
   },
   "outputs": [
    {
     "name": "stdout",
     "output_type": "stream",
     "text": [
      "        transaction_id   product_id   customer_id     transaction_date  \\\n",
      "count     20000.000000  20000.00000  20000.000000                20000   \n",
      "unique             NaN          NaN           NaN                  364   \n",
      "top                NaN          NaN           NaN  2017-02-14 00:00:00   \n",
      "freq               NaN          NaN           NaN                   82   \n",
      "first              NaN          NaN           NaN  2017-01-01 00:00:00   \n",
      "last               NaN          NaN           NaN  2017-12-30 00:00:00   \n",
      "mean      10000.500000     45.36465   1738.246050                  NaN   \n",
      "std        5773.647028     30.75359   1011.951046                  NaN   \n",
      "min           1.000000      0.00000      1.000000                  NaN   \n",
      "25%        5000.750000     18.00000    857.750000                  NaN   \n",
      "50%       10000.500000     44.00000   1736.000000                  NaN   \n",
      "75%       15000.250000     72.00000   2613.000000                  NaN   \n",
      "max       20000.000000    100.00000   5034.000000                  NaN   \n",
      "\n",
      "        online_order order_status  brand product_line product_class  \\\n",
      "count   19640.000000        20000  19803        19803         19803   \n",
      "unique           NaN            2      6            4             3   \n",
      "top              NaN     Approved  Solex     Standard        medium   \n",
      "freq             NaN        19821   4253        14176         13826   \n",
      "first            NaN          NaN    NaN          NaN           NaN   \n",
      "last             NaN          NaN    NaN          NaN           NaN   \n",
      "mean        0.500458          NaN    NaN          NaN           NaN   \n",
      "std         0.500013          NaN    NaN          NaN           NaN   \n",
      "min         0.000000          NaN    NaN          NaN           NaN   \n",
      "25%         0.000000          NaN    NaN          NaN           NaN   \n",
      "50%         1.000000          NaN    NaN          NaN           NaN   \n",
      "75%         1.000000          NaN    NaN          NaN           NaN   \n",
      "max         1.000000          NaN    NaN          NaN           NaN   \n",
      "\n",
      "       product_size    list_price  standard_cost  product_first_sold_date  \n",
      "count         19803  20000.000000   19803.000000             19803.000000  \n",
      "unique            3           NaN            NaN                      NaN  \n",
      "top          medium           NaN            NaN                      NaN  \n",
      "freq          12990           NaN            NaN                      NaN  \n",
      "first           NaN           NaN            NaN                      NaN  \n",
      "last            NaN           NaN            NaN                      NaN  \n",
      "mean            NaN   1107.829449     556.046951             38199.776549  \n",
      "std             NaN    582.825242     405.955660              2875.201110  \n",
      "min             NaN     12.010000       7.210000             33259.000000  \n",
      "25%             NaN    575.270000     215.140000             35667.000000  \n",
      "50%             NaN   1163.890000     507.580000             38216.000000  \n",
      "75%             NaN   1635.300000     795.100000             40672.000000  \n",
      "max             NaN   2091.470000    1759.850000             42710.000000  \n"
     ]
    },
    {
     "name": "stderr",
     "output_type": "stream",
     "text": [
      "/var/folders/jm/p19zymmn4cvb8j0vgkl9rmkm0000gn/T/ipykernel_31516/2773332739.py:2: FutureWarning: Treating datetime data as categorical rather than numeric in `.describe` is deprecated and will be removed in a future version of pandas. Specify `datetime_is_numeric=True` to silence this warning and adopt the future behavior now.\n",
      "  print(transactions.describe(include='all'))\n"
     ]
    }
   ],
   "source": [
    "# describe all\n",
    "print(transactions.describe(include='all'))"
   ]
  },
  {
   "cell_type": "code",
   "execution_count": 57,
   "metadata": {
    "scrolled": true
   },
   "outputs": [
    {
     "name": "stdout",
     "output_type": "stream",
     "text": [
      "transaction_id               0\n",
      "product_id                   0\n",
      "customer_id                  0\n",
      "transaction_date             0\n",
      "online_order               360\n",
      "order_status                 0\n",
      "brand                      197\n",
      "product_line               197\n",
      "product_class              197\n",
      "product_size               197\n",
      "list_price                   0\n",
      "standard_cost              197\n",
      "product_first_sold_date    197\n",
      "dtype: int64\n"
     ]
    }
   ],
   "source": [
    "# count số dòng bị null ở mỗi cột\n",
    "print(transactions.isna().sum())\n"
   ]
  },
  {
   "cell_type": "markdown",
   "metadata": {},
   "source": [
    "# 1. Data Correction"
   ]
  },
  {
   "cell_type": "markdown",
   "metadata": {},
   "source": [
    "## 1.1 Drop NA"
   ]
  },
  {
   "cell_type": "code",
   "execution_count": 75,
   "metadata": {
    "scrolled": true
   },
   "outputs": [
    {
     "name": "stdout",
     "output_type": "stream",
     "text": [
      "<class 'pandas.core.frame.DataFrame'>\n",
      "Int64Index: 19445 entries, 0 to 19999\n",
      "Data columns (total 13 columns):\n",
      " #   Column                   Non-Null Count  Dtype         \n",
      "---  ------                   --------------  -----         \n",
      " 0   transaction_id           19445 non-null  int64         \n",
      " 1   product_id               19445 non-null  int64         \n",
      " 2   customer_id              19445 non-null  int64         \n",
      " 3   transaction_date         19445 non-null  datetime64[ns]\n",
      " 4   online_order             19445 non-null  float64       \n",
      " 5   order_status             19445 non-null  object        \n",
      " 6   brand                    19445 non-null  object        \n",
      " 7   product_line             19445 non-null  object        \n",
      " 8   product_class            19445 non-null  object        \n",
      " 9   product_size             19445 non-null  object        \n",
      " 10  list_price               19445 non-null  float64       \n",
      " 11  standard_cost            19445 non-null  float64       \n",
      " 12  product_first_sold_date  19445 non-null  float64       \n",
      "dtypes: datetime64[ns](1), float64(4), int64(3), object(5)\n",
      "memory usage: 2.1+ MB\n",
      "None\n"
     ]
    }
   ],
   "source": [
    "# tạo bảng df_dropna_all bằng cách loại bỏ tất cả giá trị null trong bảng và in ra info\n",
    "\n",
    "transactions_dropna_all= transactions.dropna()\n",
    "print(df_dropna_all.info())"
   ]
  },
  {
   "cell_type": "code",
   "execution_count": 76,
   "metadata": {
    "scrolled": true
   },
   "outputs": [
    {
     "name": "stdout",
     "output_type": "stream",
     "text": [
      "<class 'pandas.core.frame.DataFrame'>\n",
      "Int64Index: 19640 entries, 0 to 19999\n",
      "Data columns (total 13 columns):\n",
      " #   Column                   Non-Null Count  Dtype         \n",
      "---  ------                   --------------  -----         \n",
      " 0   transaction_id           19640 non-null  int64         \n",
      " 1   product_id               19640 non-null  int64         \n",
      " 2   customer_id              19640 non-null  int64         \n",
      " 3   transaction_date         19640 non-null  datetime64[ns]\n",
      " 4   online_order             19640 non-null  float64       \n",
      " 5   order_status             19640 non-null  object        \n",
      " 6   brand                    19445 non-null  object        \n",
      " 7   product_line             19445 non-null  object        \n",
      " 8   product_class            19445 non-null  object        \n",
      " 9   product_size             19445 non-null  object        \n",
      " 10  list_price               19640 non-null  float64       \n",
      " 11  standard_cost            19445 non-null  float64       \n",
      " 12  product_first_sold_date  19445 non-null  float64       \n",
      "dtypes: datetime64[ns](1), float64(4), int64(3), object(5)\n",
      "memory usage: 2.1+ MB\n",
      "None\n"
     ]
    }
   ],
   "source": [
    "# tạo bảng df_dropna_online_order bằng cách loại bỏ giá trị null trong cột online_order và in ra info\n",
    "transactions_dropna_online_order=transactions.dropna(subset='online_order')\n",
    "print(df_dropna_online_order.info())"
   ]
  },
  {
   "cell_type": "markdown",
   "metadata": {},
   "source": [
    "## 1.2 Fill NA"
   ]
  },
  {
   "cell_type": "code",
   "execution_count": 77,
   "metadata": {},
   "outputs": [
    {
     "name": "stdout",
     "output_type": "stream",
     "text": [
      "<class 'pandas.core.frame.DataFrame'>\n",
      "RangeIndex: 20000 entries, 0 to 19999\n",
      "Data columns (total 13 columns):\n",
      " #   Column                   Non-Null Count  Dtype         \n",
      "---  ------                   --------------  -----         \n",
      " 0   transaction_id           20000 non-null  int64         \n",
      " 1   product_id               20000 non-null  int64         \n",
      " 2   customer_id              20000 non-null  int64         \n",
      " 3   transaction_date         20000 non-null  datetime64[ns]\n",
      " 4   online_order             20000 non-null  float64       \n",
      " 5   order_status             20000 non-null  object        \n",
      " 6   brand                    20000 non-null  object        \n",
      " 7   product_line             20000 non-null  object        \n",
      " 8   product_class            20000 non-null  object        \n",
      " 9   product_size             20000 non-null  object        \n",
      " 10  list_price               20000 non-null  float64       \n",
      " 11  standard_cost            20000 non-null  float64       \n",
      " 12  product_first_sold_date  20000 non-null  float64       \n",
      "dtypes: datetime64[ns](1), float64(4), int64(3), object(5)\n",
      "memory usage: 2.0+ MB\n",
      "None\n"
     ]
    }
   ],
   "source": [
    "# fill tất cả NA bằng 0, lưu vào bảng df_fillna_0 và in ra info\n",
    "transactions_fillna_0= transactions.fillna(0)\n",
    "print(df_fillna_0.info())"
   ]
  },
  {
   "cell_type": "code",
   "execution_count": 78,
   "metadata": {},
   "outputs": [
    {
     "name": "stdout",
     "output_type": "stream",
     "text": [
      "<class 'pandas.core.frame.DataFrame'>\n",
      "RangeIndex: 20000 entries, 0 to 19999\n",
      "Data columns (total 13 columns):\n",
      " #   Column                   Non-Null Count  Dtype         \n",
      "---  ------                   --------------  -----         \n",
      " 0   transaction_id           20000 non-null  int64         \n",
      " 1   product_id               20000 non-null  int64         \n",
      " 2   customer_id              20000 non-null  int64         \n",
      " 3   transaction_date         20000 non-null  datetime64[ns]\n",
      " 4   online_order             20000 non-null  object        \n",
      " 5   order_status             20000 non-null  object        \n",
      " 6   brand                    20000 non-null  object        \n",
      " 7   product_line             20000 non-null  object        \n",
      " 8   product_class            20000 non-null  object        \n",
      " 9   product_size             20000 non-null  object        \n",
      " 10  list_price               20000 non-null  float64       \n",
      " 11  standard_cost            20000 non-null  object        \n",
      " 12  product_first_sold_date  20000 non-null  object        \n",
      "dtypes: datetime64[ns](1), float64(1), int64(3), object(8)\n",
      "memory usage: 2.0+ MB\n",
      "None\n"
     ]
    }
   ],
   "source": [
    "# fill NA bằng ffill, lưu vào bảng df_fillna_ffill và in ra info\n",
    "transactions_fillna_ffill=transactions.fillna('ffill')\n",
    "print(df_fillna_ffill.info())"
   ]
  },
  {
   "cell_type": "code",
   "execution_count": 79,
   "metadata": {
    "scrolled": true
   },
   "outputs": [
    {
     "name": "stdout",
     "output_type": "stream",
     "text": [
      "<class 'pandas.core.frame.DataFrame'>\n",
      "RangeIndex: 20000 entries, 0 to 19999\n",
      "Data columns (total 13 columns):\n",
      " #   Column                   Non-Null Count  Dtype         \n",
      "---  ------                   --------------  -----         \n",
      " 0   transaction_id           20000 non-null  int64         \n",
      " 1   product_id               20000 non-null  int64         \n",
      " 2   customer_id              20000 non-null  int64         \n",
      " 3   transaction_date         20000 non-null  datetime64[ns]\n",
      " 4   online_order             20000 non-null  object        \n",
      " 5   order_status             20000 non-null  object        \n",
      " 6   brand                    20000 non-null  object        \n",
      " 7   product_line             20000 non-null  object        \n",
      " 8   product_class            20000 non-null  object        \n",
      " 9   product_size             20000 non-null  object        \n",
      " 10  list_price               20000 non-null  float64       \n",
      " 11  standard_cost            20000 non-null  object        \n",
      " 12  product_first_sold_date  20000 non-null  object        \n",
      "dtypes: datetime64[ns](1), float64(1), int64(3), object(8)\n",
      "memory usage: 2.0+ MB\n",
      "None\n"
     ]
    }
   ],
   "source": [
    "# fill NA bằng bfill, lưu vào bảng df_fillna_bfill và in ra info\n",
    "transactions_fillna_bfill=transactions.fillna('bfill')\n",
    "print(df_fillna_bfill.info())"
   ]
  },
  {
   "cell_type": "markdown",
   "metadata": {},
   "source": [
    "## 1.3. Assess Categorical Data"
   ]
  },
  {
   "cell_type": "code",
   "execution_count": 72,
   "metadata": {
    "scrolled": false
   },
   "outputs": [
    {
     "name": "stdout",
     "output_type": "stream",
     "text": [
      "   customer_id      first_name  last_name  gender  \\\n",
      "0            1         Laraine  Medendorp       F   \n",
      "1            2             Eli    Bockman    Male   \n",
      "2            3           Arlin     Dearle    Male   \n",
      "3            4          Talbot        NaN    Male   \n",
      "4            5  Sheila-kathryn     Calton  Female   \n",
      "\n",
      "   past_3_years_bike_related_purchases        DOB               job_title  \\\n",
      "0                                   93 1953-10-12     Executive Secretary   \n",
      "1                                   81 1980-12-16  Administrative Officer   \n",
      "2                                   61 1954-01-20      Recruiting Manager   \n",
      "3                                   33 1961-10-03                     NaN   \n",
      "4                                   56 1977-05-13           Senior Editor   \n",
      "\n",
      "  job_industry_category     wealth_segment deceased_indicator  \\\n",
      "0                Health      Mass Customer                  N   \n",
      "1    Financial Services      Mass Customer                  N   \n",
      "2              Property      Mass Customer                  N   \n",
      "3                    IT      Mass Customer                  N   \n",
      "4                   NaN  Affluent Customer                  N   \n",
      "\n",
      "                                             default owns_car  tenure  \n",
      "0                                                 \"'      Yes    11.0  \n",
      "1                       <script>alert('hi')</script>      Yes    16.0  \n",
      "2                                2018-02-01 00:00:00      Yes    15.0  \n",
      "3  () { _; } >_[$($())] { touch /tmp/blns.shellsh...       No     7.0  \n",
      "4                                                NIL      Yes     8.0  \n"
     ]
    },
    {
     "name": "stderr",
     "output_type": "stream",
     "text": [
      "/var/folders/jm/p19zymmn4cvb8j0vgkl9rmkm0000gn/T/ipykernel_31516/241892189.py:2: FutureWarning: Inferring datetime64[ns] from data containing strings is deprecated and will be removed in a future version. To retain the old behavior explicitly pass Series(data, dtype=datetime64[ns])\n",
      "  Demographic= pd.read_excel('KPMG.xlsx', sheet_name=2)\n"
     ]
    }
   ],
   "source": [
    "# load sheet Demographic và hiển thị 5 dòng đầu tiên\n",
    "Demographic= pd.read_excel('KPMG.xlsx', sheet_name=2)\n",
    "print(Demographic.head(5))\n"
   ]
  },
  {
   "cell_type": "code",
   "execution_count": 73,
   "metadata": {},
   "outputs": [
    {
     "name": "stdout",
     "output_type": "stream",
     "text": [
      "<class 'pandas.core.frame.DataFrame'>\n",
      "RangeIndex: 4000 entries, 0 to 3999\n",
      "Data columns (total 13 columns):\n",
      " #   Column                               Non-Null Count  Dtype         \n",
      "---  ------                               --------------  -----         \n",
      " 0   customer_id                          4000 non-null   int64         \n",
      " 1   first_name                           4000 non-null   object        \n",
      " 2   last_name                            3875 non-null   object        \n",
      " 3   gender                               4000 non-null   object        \n",
      " 4   past_3_years_bike_related_purchases  4000 non-null   int64         \n",
      " 5   DOB                                  3913 non-null   datetime64[ns]\n",
      " 6   job_title                            3494 non-null   object        \n",
      " 7   job_industry_category                3344 non-null   object        \n",
      " 8   wealth_segment                       4000 non-null   object        \n",
      " 9   deceased_indicator                   4000 non-null   object        \n",
      " 10  default                              3698 non-null   object        \n",
      " 11  owns_car                             4000 non-null   object        \n",
      " 12  tenure                               3913 non-null   float64       \n",
      "dtypes: datetime64[ns](1), float64(1), int64(2), object(9)\n",
      "memory usage: 406.4+ KB\n",
      "None\n"
     ]
    }
   ],
   "source": [
    "# in ra info bảng\n",
    "print(Demographic.info())"
   ]
  },
  {
   "cell_type": "code",
   "execution_count": 74,
   "metadata": {
    "scrolled": false
   },
   "outputs": [
    {
     "name": "stdout",
     "output_type": "stream",
     "text": [
      "       first_name last_name  gender                             job_title  \\\n",
      "count        4000      3875    4000                                  3494   \n",
      "unique       3139      3725       6                                   195   \n",
      "top           Max  Pristnor  Female  Business Systems Development Analyst   \n",
      "freq            5         3    2037                                    45   \n",
      "\n",
      "       job_industry_category wealth_segment deceased_indicator  default  \\\n",
      "count                   3344           4000               4000     3698   \n",
      "unique                     9              3                  2       90   \n",
      "top            Manufacturing  Mass Customer                  N      100   \n",
      "freq                     799           2000               3998      113   \n",
      "\n",
      "       owns_car  \n",
      "count      4000  \n",
      "unique        2  \n",
      "top         Yes  \n",
      "freq       2024  \n"
     ]
    }
   ],
   "source": [
    "# describe các giá trị object\n",
    "print(Demographic.describe(include=[object]))"
   ]
  },
  {
   "cell_type": "code",
   "execution_count": 194,
   "metadata": {},
   "outputs": [
    {
     "name": "stdout",
     "output_type": "stream",
     "text": [
      "<class 'pandas.core.frame.DataFrame'>\n",
      "Int64Index: 2630 entries, 0 to 3996\n",
      "Data columns (total 14 columns):\n",
      " #   Column                               Non-Null Count  Dtype          \n",
      "---  ------                               --------------  -----          \n",
      " 0   customer_id                          2630 non-null   int64          \n",
      " 1   first_name                           2630 non-null   object         \n",
      " 2   last_name                            2630 non-null   object         \n",
      " 3   gender                               2630 non-null   object         \n",
      " 4   past_3_years_bike_related_purchases  2630 non-null   int64          \n",
      " 5   DOB                                  2630 non-null   datetime64[ns] \n",
      " 6   job_title                            2630 non-null   object         \n",
      " 7   job_industry_category                2630 non-null   object         \n",
      " 8   wealth_segment                       2630 non-null   object         \n",
      " 9   deceased_indicator                   2630 non-null   object         \n",
      " 10  default                              2630 non-null   object         \n",
      " 11  owns_car                             2630 non-null   object         \n",
      " 12  tenure                               2630 non-null   float64        \n",
      " 13  age                                  2630 non-null   timedelta64[ns]\n",
      "dtypes: datetime64[ns](1), float64(1), int64(2), object(9), timedelta64[ns](1)\n",
      "memory usage: 308.2+ KB\n",
      "None\n"
     ]
    }
   ],
   "source": [
    "# Remove all NA rows, then use output for the following steps\n",
    "Demographic_dropna_all= Demographic.dropna()\n",
    "print(Demographic_dropna_all.info())"
   ]
  },
  {
   "cell_type": "code",
   "execution_count": 160,
   "metadata": {},
   "outputs": [
    {
     "name": "stdout",
     "output_type": "stream",
     "text": [
      "['F' 'Femal' 'Female' 'Male']\n"
     ]
    }
   ],
   "source": [
    "# In ra các giá trị unique của cột gender\n",
    "import numpy as np\n",
    "print(np.unique(Demographic_dropna_all['gender']))"
   ]
  },
  {
   "cell_type": "code",
   "execution_count": 168,
   "metadata": {},
   "outputs": [
    {
     "name": "stdout",
     "output_type": "stream",
     "text": [
      "['Female' 'Male']\n"
     ]
    },
    {
     "name": "stderr",
     "output_type": "stream",
     "text": [
      "/var/folders/jm/p19zymmn4cvb8j0vgkl9rmkm0000gn/T/ipykernel_31516/1676778392.py:2: SettingWithCopyWarning: \n",
      "A value is trying to be set on a copy of a slice from a DataFrame.\n",
      "Try using .loc[row_indexer,col_indexer] = value instead\n",
      "\n",
      "See the caveats in the documentation: https://pandas.pydata.org/pandas-docs/stable/user_guide/indexing.html#returning-a-view-versus-a-copy\n",
      "  Demographic_dropna_all['gender']=Demographic_dropna_all['gender'].replace(['F','Femal','Female','Male'],\n"
     ]
    }
   ],
   "source": [
    "# Quy chuẩn cột gender về các nhóm Male, Female, Unisex và in ra giá trị unique mới\n",
    "Demographic_dropna_all['gender']=Demographic_dropna_all['gender'].replace(['F','Femal','Female','Male'],\n",
    "                                                    ['Female','Female','Female','Male'])\n",
    "print(np.unique(Demographic_dropna_all['gender']))"
   ]
  },
  {
   "cell_type": "code",
   "execution_count": 293,
   "metadata": {
    "scrolled": true
   },
   "outputs": [
    {
     "name": "stdout",
     "output_type": "stream",
     "text": [
      "20\n",
      "91\n"
     ]
    },
    {
     "name": "stderr",
     "output_type": "stream",
     "text": [
      "/var/folders/jm/p19zymmn4cvb8j0vgkl9rmkm0000gn/T/ipykernel_31516/4294092096.py:3: SettingWithCopyWarning: \n",
      "A value is trying to be set on a copy of a slice from a DataFrame.\n",
      "Try using .loc[row_indexer,col_indexer] = value instead\n",
      "\n",
      "See the caveats in the documentation: https://pandas.pydata.org/pandas-docs/stable/user_guide/indexing.html#returning-a-view-versus-a-copy\n",
      "  Demographic_dropna_all['age']= time_today-Demographic_dropna_all['DOB'].dt.strftime('%Y').astype(int)\n"
     ]
    }
   ],
   "source": [
    "# Tính tuổi của mỗi khách hàng, lưu vào cột \"age\" và in ra min age, max age\n",
    "time_today= dt.datetime.today().year\n",
    "Demographic_dropna_all['age']= time_today-Demographic_dropna_all['DOB'].dt.strftime('%Y').astype(int)\n",
    "\n",
    "print(Demographic_dropna_all['age'].min())\n",
    "print(Demographic_dropna_all.age.max())\n",
    "\n",
    "\n"
   ]
  },
  {
   "cell_type": "code",
   "execution_count": 174,
   "metadata": {},
   "outputs": [
    {
     "name": "stdout",
     "output_type": "stream",
     "text": [
      "0        Older\n",
      "1       Middle\n",
      "2        Older\n",
      "8       Middle\n",
      "9        Young\n",
      "         ...  \n",
      "3992    Middle\n",
      "3993     Young\n",
      "3994    Middle\n",
      "3995    Middle\n",
      "3996     Young\n",
      "Name: age_group, Length: 2630, dtype: category\n",
      "Categories (3, object): ['Young' < 'Middle' < 'Older']\n"
     ]
    },
    {
     "name": "stderr",
     "output_type": "stream",
     "text": [
      "/var/folders/jm/p19zymmn4cvb8j0vgkl9rmkm0000gn/T/ipykernel_31516/1188577741.py:3: SettingWithCopyWarning: \n",
      "A value is trying to be set on a copy of a slice from a DataFrame.\n",
      "Try using .loc[row_indexer,col_indexer] = value instead\n",
      "\n",
      "See the caveats in the documentation: https://pandas.pydata.org/pandas-docs/stable/user_guide/indexing.html#returning-a-view-versus-a-copy\n",
      "  Demographic_dropna_all['age_group']=pd.cut(x=Demographic_dropna_all['age'],bins=[0,35,55,100],\n"
     ]
    }
   ],
   "source": [
    "# phân nhóm khách hàng dưới 35 tuổi là nhóm \"Young\", Từ 35 - 55 là \"Middle\", trên 55 là \"Older\"\n",
    "# lưu vào cột \"age_group\" bằng cách sử dụng hàm cut\n",
    "Demographic_dropna_all['age_group']=pd.cut(x=Demographic_dropna_all['age'],bins=[0,35,55,100],\n",
    "                                           labels=['Young','Middle','Older'])\n",
    "\n",
    "print(Demographic_dropna_all['age_group'])\n"
   ]
  },
  {
   "cell_type": "markdown",
   "metadata": {},
   "source": [
    "# 2. Data Completeness"
   ]
  },
  {
   "cell_type": "code",
   "execution_count": 22,
   "metadata": {
    "scrolled": true
   },
   "outputs": [],
   "source": [
    "#join bảng transactions vs demographic (đều đã dropna) và in ra những giao dịch thiếu thông tin demographic (last name hoặc first name)\n"
   ]
  },
  {
   "cell_type": "code",
   "execution_count": 189,
   "metadata": {},
   "outputs": [
    {
     "name": "stdout",
     "output_type": "stream",
     "text": [
      "       transaction_id  product_id  customer_id transaction_date  online_order  \\\n",
      "4                   5          78          787       2017-10-01           1.0   \n",
      "7                   8          15         2459       2017-07-15           0.0   \n",
      "10                 11           5         1986       2017-01-17           0.0   \n",
      "16                 17          79         2426       2017-04-03           0.0   \n",
      "24                 25          89         2822       2017-06-11           0.0   \n",
      "...               ...         ...          ...              ...           ...   \n",
      "19433           19989           0          714       2017-04-27           1.0   \n",
      "19436           19992          11         1374       2017-09-14           0.0   \n",
      "19437           19993          13            5       2017-04-28           0.0   \n",
      "19438           19994          77         2618       2017-12-23           0.0   \n",
      "19443           19999           6         2764       2017-07-03           0.0   \n",
      "\n",
      "      order_status           brand product_line product_class product_size  \\\n",
      "4         Approved  Giant Bicycles     Standard        medium        large   \n",
      "7         Approved        WeareA2B     Standard        medium       medium   \n",
      "10        Approved   Trek Bicycles     Mountain           low       medium   \n",
      "16        Approved  Norco Bicycles     Standard        medium       medium   \n",
      "24        Approved        WeareA2B      Touring        medium        large   \n",
      "...            ...             ...          ...           ...          ...   \n",
      "19433     Approved  Norco Bicycles     Standard           low       medium   \n",
      "19436     Approved  Giant Bicycles     Standard          high       medium   \n",
      "19437     Approved           Solex     Standard        medium       medium   \n",
      "19438     Approved  Norco Bicycles         Road        medium        large   \n",
      "19443     Approved      OHM Cycles     Standard          high       medium   \n",
      "\n",
      "       ...  DOB  job_title  job_industry_category wealth_segment  \\\n",
      "4      ...  NaT        NaN                    NaN            NaN   \n",
      "7      ...  NaT        NaN                    NaN            NaN   \n",
      "10     ...  NaT        NaN                    NaN            NaN   \n",
      "16     ...  NaT        NaN                    NaN            NaN   \n",
      "24     ...  NaT        NaN                    NaN            NaN   \n",
      "...    ...  ...        ...                    ...            ...   \n",
      "19433  ...  NaT        NaN                    NaN            NaN   \n",
      "19436  ...  NaT        NaN                    NaN            NaN   \n",
      "19437  ...  NaT        NaN                    NaN            NaN   \n",
      "19438  ...  NaT        NaN                    NaN            NaN   \n",
      "19443  ...  NaT        NaN                    NaN            NaN   \n",
      "\n",
      "      deceased_indicator default  owns_car tenure age age_group  \n",
      "4                    NaN     NaN       NaN    NaN NaN       NaN  \n",
      "7                    NaN     NaN       NaN    NaN NaN       NaN  \n",
      "10                   NaN     NaN       NaN    NaN NaN       NaN  \n",
      "16                   NaN     NaN       NaN    NaN NaN       NaN  \n",
      "24                   NaN     NaN       NaN    NaN NaN       NaN  \n",
      "...                  ...     ...       ...    ...  ..       ...  \n",
      "19433                NaN     NaN       NaN    NaN NaN       NaN  \n",
      "19436                NaN     NaN       NaN    NaN NaN       NaN  \n",
      "19437                NaN     NaN       NaN    NaN NaN       NaN  \n",
      "19438                NaN     NaN       NaN    NaN NaN       NaN  \n",
      "19443                NaN     NaN       NaN    NaN NaN       NaN  \n",
      "\n",
      "[6463 rows x 27 columns]\n"
     ]
    }
   ],
   "source": [
    "merge=transactions_dropna_all.merge(Demographic_dropna_all,on='customer_id', how ='left')\n",
    "print(merge[merge['first_name'].isna()])"
   ]
  },
  {
   "cell_type": "markdown",
   "metadata": {},
   "source": [
    "# 3. Data Aggregation (after dropping null values)"
   ]
  },
  {
   "cell_type": "code",
   "execution_count": 229,
   "metadata": {
    "scrolled": true
   },
   "outputs": [
    {
     "name": "stdout",
     "output_type": "stream",
     "text": [
      "301\n"
     ]
    }
   ],
   "source": [
    "# tính tổng khách hàng có phát sinh giao dịch bằng hàm nunique\n",
    "#countsos khach hangf\n",
    "merge_dropna_all=merge.dropna()\n",
    "transaction_per_customer=merge_dropna_all['customer_id'].nunique()\n",
    "khach_hang_co_phat_sinh_gd= Demographic_dropna_all['customer_id'].count()-transaction_per_customer\n",
    "print(khach_hang_co_phat_sinh_gd)"
   ]
  },
  {
   "cell_type": "code",
   "execution_count": 235,
   "metadata": {
    "scrolled": true
   },
   "outputs": [
    {
     "name": "stdout",
     "output_type": "stream",
     "text": [
      "year_month\n",
      "2017-01    1321\n",
      "2017-02    1258\n",
      "2017-03    1277\n",
      "2017-04    1284\n",
      "2017-05    1281\n",
      "2017-06    1238\n",
      "2017-07    1327\n",
      "2017-08    1346\n",
      "2017-09    1240\n",
      "2017-10    1378\n",
      "2017-11    1281\n",
      "2017-12    1294\n",
      "Name: customer_id, dtype: int64\n"
     ]
    },
    {
     "name": "stderr",
     "output_type": "stream",
     "text": [
      "/var/folders/jm/p19zymmn4cvb8j0vgkl9rmkm0000gn/T/ipykernel_31516/562747982.py:4: SettingWithCopyWarning: \n",
      "A value is trying to be set on a copy of a slice from a DataFrame.\n",
      "Try using .loc[row_indexer,col_indexer] = value instead\n",
      "\n",
      "See the caveats in the documentation: https://pandas.pydata.org/pandas-docs/stable/user_guide/indexing.html#returning-a-view-versus-a-copy\n",
      "  transactions_dropna_all['year_month']= transactions_dropna_all['transaction_date'].dt.strftime('%Y-%m')\n"
     ]
    }
   ],
   "source": [
    "# Tính số khách hàng mỗi tháng\n",
    "# hint 1: tạo column year_month bằng hàm dt.strftime\n",
    "# hint 2: group by year_month và nunique\n",
    "transactions_dropna_all['year_month']= transactions_dropna_all['transaction_date'].dt.strftime('%Y-%m')\n",
    "customers_per_month=transactions_dropna_all.groupby('year_month')['customer_id'].nunique()\n",
    "print(customers_per_month)"
   ]
  },
  {
   "cell_type": "code",
   "execution_count": 246,
   "metadata": {
    "scrolled": true
   },
   "outputs": [
    {
     "name": "stdout",
     "output_type": "stream",
     "text": [
      "year_month\n",
      "2017-01    915151.359988\n",
      "2017-02    852514.230000\n",
      "2017-03    865312.550000\n",
      "2017-04    888856.890000\n",
      "2017-05    904003.210000\n",
      "2017-06    841815.260000\n",
      "2017-07    919677.790000\n",
      "2017-08    951376.270000\n",
      "2017-09    843736.130000\n",
      "2017-10    968986.414984\n",
      "2017-11    900817.570000\n",
      "2017-12    876568.660000\n",
      "Name: gross_margin, dtype: float64\n"
     ]
    },
    {
     "name": "stderr",
     "output_type": "stream",
     "text": [
      "/var/folders/jm/p19zymmn4cvb8j0vgkl9rmkm0000gn/T/ipykernel_31516/1707308117.py:4: SettingWithCopyWarning: \n",
      "A value is trying to be set on a copy of a slice from a DataFrame.\n",
      "Try using .loc[row_indexer,col_indexer] = value instead\n",
      "\n",
      "See the caveats in the documentation: https://pandas.pydata.org/pandas-docs/stable/user_guide/indexing.html#returning-a-view-versus-a-copy\n",
      "  transactions_dropna_all['gross_margin']= transactions_dropna_all.list_price-transactions_dropna_all.standard_cost\n"
     ]
    }
   ],
   "source": [
    "# Tính gross margin của mỗi tháng. gross_margin = list_price - standard_cost\n",
    "# hint 1: tạo column gross_margin\n",
    "# hint 2: group by year_month và sử dụng hàm agg\n",
    "transactions_dropna_all['gross_margin']= transactions_dropna_all.list_price-transactions_dropna_all.standard_cost\n",
    "print(transactions_dropna_all.groupby('year_month')['gross_margin'].sum())\n"
   ]
  },
  {
   "cell_type": "markdown",
   "metadata": {
    "scrolled": false
   },
   "source": [
    "## Tính số lượng order và doanh thu group by online_order và order_status \n",
    "# hint 1: group by online_order, order_status và sử dụng hàm agg\n",
    "\n"
   ]
  },
  {
   "cell_type": "code",
   "execution_count": 258,
   "metadata": {},
   "outputs": [
    {
     "name": "stdout",
     "output_type": "stream",
     "text": [
      "9642\n",
      "online_order  order_status\n",
      "0.0           Approved        10666230.05\n",
      "              Cancelled          86837.88\n",
      "1.0           Approved        10670179.59\n",
      "              Cancelled         108924.20\n",
      "Name: list_price, dtype: float64\n"
     ]
    }
   ],
   "source": [
    "#số lượng order\n",
    "order_number_table=transactions_dropna_all[transactions_dropna_all.online_order ==True]\n",
    "order_number_table_approved=order_number_table[order_number_table.order_status=='Approved']\n",
    "order_number=order_number_table_approved.online_order.count()\n",
    "print(order_number)\n",
    "#doanh thu group by online_order và order_status \n",
    "list_price_by_order_and_status=transactions_dropna_all.groupby(['online_order','order_status'])['list_price'].sum()\n",
    "print(list_price_by_order_and_status)"
   ]
  },
  {
   "cell_type": "markdown",
   "metadata": {},
   "source": [
    "# 4. Data Visualization"
   ]
  },
  {
   "cell_type": "code",
   "execution_count": 27,
   "metadata": {},
   "outputs": [],
   "source": [
    "# Sử dụng seaborn và vẽ ra 5 chart khác nhau (column, line, box,...) với đầy đủ tên chart, tên các trục và chú thích.\n",
    "# Comment insight/message muốn truyền tải thông qua từng chart\n",
    "\n",
    "\n",
    "\n",
    "\n"
   ]
  },
  {
   "cell_type": "code",
   "execution_count": 270,
   "metadata": {},
   "outputs": [
    {
     "data": {
      "image/png": "[encoded data removed]",
      "text/plain": [
       "<Figure size 720x360 with 2 Axes>"
      ]
     },
     "metadata": {
      "needs_background": "light"
     },
     "output_type": "display_data"
    },
    {
     "data": {
      "image/png": "[encoded data removed]",
      "text/plain": [
       "<Figure size 1080x360 with 3 Axes>"
      ]
     },
     "metadata": {
      "needs_background": "light"
     },
     "output_type": "display_data"
    }
   ],
   "source": [
    "#line chart: the number of revenue by year_month and show subplot by online_order. \n",
    "#This shows how the company's revenue grows over the time with order or no order products\n",
    "import seaborn as sns\n",
    "import matplotlib.pyplot as plt\n",
    "table1=sns.relplot(x='year_month',y='list_price', data=transactions_dropna_all,\n",
    "           kind='line', col='online_order')\n",
    "table1.fig.suptitle(\"Revenue over time\")\n",
    "table1.set(xlabel='year_month',\n",
    "\t\tylabel='Revenue')\n",
    "table1.set_xticklabels(rotation=90)\n",
    "plt.show()\n",
    "\n",
    "\n",
    "#Count: The number of each brand products and show subplot by product_class. \n",
    "#This tells which product brands are selling well and which are not popular for each product_class.\n",
    "table2=sns.catplot(y='brand', data=transactions_dropna_all,\n",
    "           kind='count', col='product_class', col_order=['low','medium','high'])\n",
    "table2.fig.suptitle(\"The number of each brand products\", y=1.05)\n",
    "table2.set(xlabel='count',\n",
    "\t\tylabel='brand')\n",
    "plt.show()"
   ]
  },
  {
   "cell_type": "code",
   "execution_count": 274,
   "metadata": {},
   "outputs": [
    {
     "data": {
      "image/png": "[encoded data removed]",
      "text/plain": [
       "<Figure size 1080x360 with 3 Axes>"
      ]
     },
     "metadata": {
      "needs_background": "light"
     },
     "output_type": "display_data"
    }
   ],
   "source": [
    "#Barplot: the gross_margin of each brand products and show subplot by products_class\n",
    "#This indicates which product brands brings more profits for each product_class.\n",
    "table3=sns.catplot(x='brand',y='gross_margin', data=transactions_dropna_all,\n",
    "           kind='bar', col='product_class', col_order=['low','medium','high'], ci=None)\n",
    "table3.fig.suptitle(\"The gross_margin of each brand products\", y=1.05)\n",
    "table3.set(xlabel='profits',\n",
    "\t\tylabel='brand')\n",
    "table3.set_xticklabels(rotation=50)\n",
    "plt.show()"
   ]
  },
  {
   "cell_type": "code",
   "execution_count": 283,
   "metadata": {},
   "outputs": [
    {
     "data": {
      "image/png": "[encoded data removed]",
      "text/plain": [
       "<Figure size 437x360 with 1 Axes>"
      ]
     },
     "metadata": {
      "needs_background": "light"
     },
     "output_type": "display_data"
    }
   ],
   "source": [
    "#multiple line: the number of cost by year_month and product_class\n",
    "table4=sns.relplot(x='year_month',y='standard_cost', data=transactions_dropna_all,\n",
    "           kind='line',hue='product_class', style='product_class', ci=None)\n",
    "table4.fig.suptitle(\"Cost over time\")\n",
    "table4.set(xlabel='year_month',\n",
    "\t\tylabel='Cost')\n",
    "table4.set_xticklabels(rotation=90)\n",
    "plt.show()\n"
   ]
  },
  {
   "cell_type": "code",
   "execution_count": 295,
   "metadata": {},
   "outputs": [
    {
     "data": {
      "image/png": "[encoded data removed]",
      "text/plain": [
       "<Figure size 360x360 with 1 Axes>"
      ]
     },
     "metadata": {
      "needs_background": "light"
     },
     "output_type": "display_data"
    }
   ],
   "source": [
    "#box plot: demographic customer.\n",
    "\n",
    "table5= sns.catplot(data=Demographic_dropna_all, x=\"age\", y=\"gender\", kind='box')\n",
    "table5.fig.suptitle(\"Demographic customer\")"
   ]
  },
  {
   "cell_type": "code",
   "execution_count": null,
   "metadata": {},
   "outputs": [],
   "source": []
  }
 ],
 "metadata": {
  "kernelspec": {
   "display_name": "Python 3 (ipykernel)",
   "language": "python",
   "name": "python3"
  },
  "language_info": {
   "codemirror_mode": {
    "name": "ipython",
    "version": 3
   },
   "file_extension": ".py",
   "mimetype": "text/x-python",
   "name": "python",
   "nbconvert_exporter": "python",
   "pygments_lexer": "ipython3",
   "version": "3.9.12"
  }
 },
 "nbformat": 4,
 "nbformat_minor": 2
}
